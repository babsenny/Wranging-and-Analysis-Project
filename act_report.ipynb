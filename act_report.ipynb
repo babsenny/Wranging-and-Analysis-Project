{
 "cells": [
  {
   "cell_type": "markdown",
   "metadata": {},
   "source": [
    "## Report: act_report"
   ]
  },
  {
   "cell_type": "markdown",
   "metadata": {},
   "source": [
    "#### ANALYSIS AND VISUALIZATION"
   ]
  },
  {
   "cell_type": "markdown",
   "metadata": {},
   "source": [
    "The datasets were merged into a master dataframe named twitter_master. The following questions were answered with the analysis of the data:\n",
    "\n",
    "- What is the most common dog breed?\n",
    "- What is the most common stage?\n",
    "- What is the dog breed with the heighest like?\n",
    "- What is the dog with the heighest retweets? \n",
    "- The dog with the least likes and retweets\n",
    "- Is there correlation between favorite and retweet counts\n"
   ]
  },
  {
   "cell_type": "markdown",
   "metadata": {},
   "source": [
    "Some of the pandas functions used to help with this analysis include:\n",
    "- twitter_master['col_name'].value_counts(): To get the individual counts of unique values in the Dataframe\n",
    "- col = \"favorite_count\"\n",
    "    \n",
    "    twitter_master.loc[twitter_master[col].idxmax()]: To get the details of the dog with the highest count.\n",
    "- col = \"retweet_count\"\n",
    "   \n",
    "   twitter_master.loc[twitter_master[col].idxmax()]: To get the details of the dog with the highest retweet.\n",
    "\n"
   ]
  },
  {
   "cell_type": "markdown",
   "metadata": {},
   "source": [
    "Insights:\n",
    "1. The same dog has the highest number of likes and retweets and it is of a Labrador retriever Breed\n",
    "2. The most common Dog breed is Golden retriever\n",
    "3. The most common development stage is pupper \n",
    "4. The same dog has the lowest number of likes and retweets and it is of a English setter Breed\n",
    "5. The least common development stage is floofer\n"
   ]
  },
  {
   "cell_type": "markdown",
   "metadata": {},
   "source": [
    "### VISUALIZATION"
   ]
  },
  {
   "cell_type": "markdown",
   "metadata": {},
   "source": [
    "<img src = \"new_folder/top5dog.JPG\">"
   ]
  },
  {
   "cell_type": "markdown",
   "metadata": {},
   "source": [
    "From the visualization above, it is clear that dogs of the golden_retriever breed occured the most in the tweets."
   ]
  },
  {
   "cell_type": "markdown",
   "metadata": {},
   "source": [
    "<img src = \"new_folder/breedavg.JPG\">"
   ]
  },
  {
   "cell_type": "markdown",
   "metadata": {},
   "source": [
    "The visualization above shows the top breeds by average likes"
   ]
  },
  {
   "cell_type": "markdown",
   "metadata": {},
   "source": [
    "<img src = \"new_folder/PieChart.JPG\">"
   ]
  },
  {
   "cell_type": "markdown",
   "metadata": {},
   "source": [
    "<img src = \"new_folder/retweets.JPG\">"
   ]
  },
  {
   "cell_type": "markdown",
   "metadata": {},
   "source": [
    "<img src = \"new_folder/correlation.JPG\">"
   ]
  },
  {
   "cell_type": "markdown",
   "metadata": {},
   "source": [
    "#image of the dog with the highest likes\n",
    "<img src = \"new_folder/dogimage.JPG\">"
   ]
  },
  {
   "cell_type": "code",
   "execution_count": null,
   "metadata": {},
   "outputs": [],
   "source": []
  }
 ],
 "metadata": {
  "kernelspec": {
   "display_name": "Python 3",
   "language": "python",
   "name": "python3"
  },
  "language_info": {
   "codemirror_mode": {
    "name": "ipython",
    "version": 3
   },
   "file_extension": ".py",
   "mimetype": "text/x-python",
   "name": "python",
   "nbconvert_exporter": "python",
   "pygments_lexer": "ipython3",
   "version": "3.6.3"
  }
 },
 "nbformat": 4,
 "nbformat_minor": 2
}
